{
 "cells": [
  {
   "cell_type": "code",
   "execution_count": 1,
   "id": "662a93d1",
   "metadata": {},
   "outputs": [],
   "source": [
    "%load_ext autoreload\n",
    "%autoreload 2"
   ]
  },
  {
   "cell_type": "code",
   "execution_count": 2,
   "id": "e19878bb",
   "metadata": {},
   "outputs": [
    {
     "name": "stderr",
     "output_type": "stream",
     "text": [
      "2022-11-16 13:51:37.621284: I tensorflow/core/platform/cpu_feature_guard.cc:193] This TensorFlow binary is optimized with oneAPI Deep Neural Network Library (oneDNN) to use the following CPU instructions in performance-critical operations:  AVX2 FMA\n",
      "To enable them in other operations, rebuild TensorFlow with the appropriate compiler flags.\n",
      "2022-11-16 13:51:37.919311: W tensorflow/stream_executor/platform/default/dso_loader.cc:64] Could not load dynamic library 'libcudart.so.11.0'; dlerror: libcudart.so.11.0: cannot open shared object file: No such file or directory\n",
      "2022-11-16 13:51:37.919339: I tensorflow/stream_executor/cuda/cudart_stub.cc:29] Ignore above cudart dlerror if you do not have a GPU set up on your machine.\n",
      "2022-11-16 13:51:37.960939: E tensorflow/stream_executor/cuda/cuda_blas.cc:2981] Unable to register cuBLAS factory: Attempting to register factory for plugin cuBLAS when one has already been registered\n",
      "2022-11-16 13:51:39.168716: W tensorflow/stream_executor/platform/default/dso_loader.cc:64] Could not load dynamic library 'libnvinfer.so.7'; dlerror: libnvinfer.so.7: cannot open shared object file: No such file or directory\n",
      "2022-11-16 13:51:39.168851: W tensorflow/stream_executor/platform/default/dso_loader.cc:64] Could not load dynamic library 'libnvinfer_plugin.so.7'; dlerror: libnvinfer_plugin.so.7: cannot open shared object file: No such file or directory\n",
      "2022-11-16 13:51:39.168862: W tensorflow/compiler/tf2tensorrt/utils/py_utils.cc:38] TF-TRT Warning: Cannot dlopen some TensorRT libraries. If you would like to use Nvidia GPU with TensorRT, please make sure the missing libraries mentioned above are installed properly.\n"
     ]
    }
   ],
   "source": [
    "%matplotlib inline\n",
    "\n",
    "import tensorflow as tf\n",
    "\n",
    "import numpy\n",
    "import matplotlib.pyplot as plt"
   ]
  },
  {
   "cell_type": "code",
   "execution_count": 3,
   "id": "da412dba",
   "metadata": {},
   "outputs": [
    {
     "name": "stdout",
     "output_type": "stream",
     "text": [
      "(60000, 28, 28)\n",
      "(60000, 784)\n",
      "\n",
      "MNIST data loaded: train: 60000 test: 10000\n",
      "X_train: (60000, 784)\n",
      "y_train: (60000,)\n"
     ]
    }
   ],
   "source": [
    "# repeating the data prep from the previous notebook\n",
    "(x_train, y_train), (x_test, y_test) = tf.keras.datasets.mnist.load_data()\n",
    "x_train = x_train.astype(numpy.float32)\n",
    "x_test  = x_test.astype(numpy.float32)\n",
    "\n",
    "x_train /= 255.\n",
    "x_test  /= 255.\n",
    "\n",
    "print(x_train.shape)\n",
    "x_train = x_train.reshape(x_train.shape[0], numpy.prod(x_train[0,:,:].shape))\n",
    "x_test = x_test.reshape(x_test.shape[0], numpy.prod(x_test[0,:,:].shape))\n",
    "\n",
    "print(x_train.shape)\n",
    "y_train = y_train.astype(numpy.int32)\n",
    "y_test  = y_test.astype(numpy.int32)\n",
    "\n",
    "print()\n",
    "print('MNIST data loaded: train:',len(x_train),'test:',len(x_test))\n",
    "print('X_train:', x_train.shape)\n",
    "print('y_train:', y_train.shape)\n",
    "\n",
    "# one-hot encoding:\n",
    "nb_classes = 10\n",
    "y_train_onehot = tf.keras.utils.to_categorical(y_train, nb_classes)\n",
    "y_test_onehot = tf.keras.utils.to_categorical(y_test, nb_classes)"
   ]
  },
  {
   "cell_type": "code",
   "execution_count": 22,
   "id": "302994b1",
   "metadata": {},
   "outputs": [],
   "source": [
    "# Here we import an implementation of a two-layer neural network \n",
    "# this code is based on pieces of the first assignment from Stanford's CSE231n course, \n",
    "# hosted at https://github.com/cs231n/cs231n.github.io with the MIT license\n",
    "from fc_net import TwoLayerNet"
   ]
  },
  {
   "cell_type": "code",
   "execution_count": 41,
   "id": "4e00e3de",
   "metadata": {},
   "outputs": [],
   "source": [
    "num_features = x_train.shape[1] # this is the number of pixels\n",
    "# The weights are initialized from a normal distribution with standard deviation weight_scale\n",
    "model = TwoLayerNet(input_dim=num_features, hidden_dim=300, num_classes=nb_classes, weight_scale=.01)"
   ]
  },
  {
   "cell_type": "code",
   "execution_count": 42,
   "id": "32f7f1aa",
   "metadata": {},
   "outputs": [],
   "source": [
    "# here you can take a look if you want at the initial loss from an untrained network\n",
    "loss, gradients = model.loss(x_train, y_train_onehot)"
   ]
  },
  {
   "cell_type": "code",
   "execution_count": 43,
   "id": "c43e3aa5",
   "metadata": {},
   "outputs": [],
   "source": [
    "# a simple implementation of stochastic gradient descent\n",
    "def sgd(model, gradients, learning_rate):\n",
    "    for p, w in model.params.items():\n",
    "        dw = gradients[p]\n",
    "        new_weights = w - learning_rate * dw\n",
    "        model.params[p] = new_weights\n",
    "    return model"
   ]
  },
  {
   "cell_type": "code",
   "execution_count": 44,
   "id": "c8316228",
   "metadata": {},
   "outputs": [],
   "source": [
    "# one training step\n",
    "def learn(model, x_train, y_train_onehot, learning_rate):\n",
    "    loss, gradients = model.loss(x_train, y_train_onehot)\n",
    "    model = sgd(model, gradients, learning_rate)\n",
    "    return loss, model"
   ]
  },
  {
   "cell_type": "code",
   "execution_count": 45,
   "id": "81886e8c",
   "metadata": {},
   "outputs": [],
   "source": [
    "def accuracy(model, x, true_values):\n",
    "    scores = model.loss(x)\n",
    "    predictions = numpy.argmax(scores, axis=1)\n",
    "    N = predictions.shape[0]\n",
    "    acc = (true_values == predictions).sum() / N\n",
    "    return acc"
   ]
  },
  {
   "cell_type": "code",
   "execution_count": 46,
   "id": "49754891",
   "metadata": {},
   "outputs": [
    {
     "name": "stdout",
     "output_type": "stream",
     "text": [
      "epoch 0, loss 2.29921, accuracy 0.21\n",
      "epoch 1, loss 2.29773, accuracy 0.27\n",
      "epoch 2, loss 2.29586, accuracy 0.32\n",
      "epoch 3, loss 2.29439, accuracy 0.36\n",
      "epoch 4, loss 2.29259, accuracy 0.39\n",
      "epoch 5, loss 2.29098, accuracy 0.42\n",
      "epoch 6, loss 2.28915, accuracy 0.45\n",
      "epoch 7, loss 2.28752, accuracy 0.47\n",
      "epoch 8, loss 2.28552, accuracy 0.49\n",
      "epoch 9, loss 2.28358, accuracy 0.51\n"
     ]
    },
    {
     "data": {
      "text/plain": [
       "[<matplotlib.lines.Line2D at 0x7f9508e8cc90>]"
      ]
     },
     "execution_count": 46,
     "metadata": {},
     "output_type": "execute_result"
    },
    {
     "data": {
      "image/png": "[encoded data removed]",
      "text/plain": [
       "<Figure size 432x288 with 1 Axes>"
      ]
     },
     "metadata": {
      "needs_background": "light"
     },
     "output_type": "display_data"
    }
   ],
   "source": [
    "# Here's an example training loop using this two-layer model. Can you do better? \n",
    "learning_rate = 0.01  \n",
    "num_examples = x_train.shape[0]\n",
    "batch_size = 10000\n",
    "num_batches = int(num_examples / batch_size)\n",
    "num_epochs = 10\n",
    "losses = numpy.zeros(num_batches*num_epochs,)\n",
    "indices = numpy.arange(num_examples)\n",
    "\n",
    "i = 0\n",
    "for epoch in range(0, num_epochs):\n",
    "    # in each epoch, we loop over all of the training examples\n",
    "    for step in range(0, num_batches):\n",
    "        # grabbing the next batch\n",
    "        offset = step * batch_size\n",
    "        batch_range = range(offset, offset+batch_size)\n",
    "        x_train_batch = x_train[batch_range, :]\n",
    "        y_train_batch = y_train_onehot[batch_range,:]\n",
    "        \n",
    "        # feed the next batch in to do one sgd step\n",
    "        loss, model = learn(model, x_train_batch, y_train_batch, learning_rate)\n",
    "        losses[i] = loss\n",
    "        i += 1\n",
    "\n",
    "    acc = accuracy(model, x_train, y_train)\n",
    "    print(\"epoch %d, loss %.5f, accuracy %.2f\" % (epoch, loss, acc))\n",
    "    \n",
    "    # reshuffle the data so that we get a new set of batches\n",
    "    numpy.random.shuffle(indices)\n",
    "    x_train = x_train[indices,:]\n",
    "    y_train = y_train[indices] # keep this shuffled the same way for use in accuracy calculation\n",
    "    y_train_onehot = y_train_onehot[indices,:]\n",
    "plt.plot(losses)"
   ]
  },
  {
   "cell_type": "code",
   "execution_count": 47,
   "id": "a4f274c6",
   "metadata": {},
   "outputs": [
    {
     "data": {
      "text/plain": [
       "0.51035"
      ]
     },
     "execution_count": 47,
     "metadata": {},
     "output_type": "execute_result"
    }
   ],
   "source": [
    "accuracy(model, x_train, y_train)"
   ]
  },
  {
   "cell_type": "markdown",
   "id": "a2dd5728",
   "metadata": {},
   "source": [
    "# Homework: improve the accuracy of this model. "
   ]
  },
  {
   "cell_type": "markdown",
   "id": "faaf0515",
   "metadata": {},
   "source": [
    "Update this notebook so that the accuracy is improved. How high can you get it? You could change things directly in the notebook, such as increasing the number of epochs, changing the learning weight, changing the width of the hidden layer, etc. If you're more ambitious, you could also try changing the model definition itself by checking out the associated Python files. For example, you could add more layers to the network. The current notebook has a training accuracy of about 43%, but will vary with randomness."
   ]
  },
  {
   "cell_type": "code",
   "execution_count": 59,
   "id": "79a54dc0",
   "metadata": {},
   "outputs": [],
   "source": [
    "# Edited the network\n",
    "from fc_net import FourLayerNet\n",
    "\n",
    "# Xavier Init\n",
    "size_input = x_train.shape[1]\n",
    "hidden_dim = 500\n",
    "\n",
    "weight_scale1 = numpy.sqrt(2./(size_input+hidden_dim))\n",
    "weight_scale2 = numpy.sqrt(2./(hidden_dim+hidden_dim))\n",
    "weight_scale3 = numpy.sqrt(2./(hidden_dim+hidden_dim))\n",
    "weight_scale4 = numpy.sqrt(2./(hidden_dim+nb_classes))\n",
    "weight_scale = (weight_scale1 + weight_scale2 + weight_scale3 + weight_scale4)/2\n",
    "\n",
    "model = FourLayerNet(input_dim=num_features, hidden_dim=hidden_dim, num_classes=nb_classes, weight_scale=weight_scale)"
   ]
  },
  {
   "cell_type": "code",
   "execution_count": 60,
   "id": "6e484c13",
   "metadata": {},
   "outputs": [
    {
     "name": "stdout",
     "output_type": "stream",
     "text": [
      "epoch 0, loss 2.60681, accuracy 0.42\n",
      "epoch 1, loss 1.01636, accuracy 0.68\n",
      "epoch 2, loss 0.80109, accuracy 0.75\n",
      "epoch 3, loss 0.69397, accuracy 0.79\n",
      "epoch 4, loss 0.62746, accuracy 0.81\n",
      "epoch 5, loss 0.57545, accuracy 0.83\n",
      "epoch 6, loss 0.54103, accuracy 0.84\n",
      "epoch 7, loss 0.49298, accuracy 0.85\n",
      "epoch 8, loss 0.48938, accuracy 0.86\n",
      "epoch 9, loss 0.45441, accuracy 0.86\n"
     ]
    },
    {
     "data": {
      "text/plain": [
       "[<matplotlib.lines.Line2D at 0x7f95086ea9d0>]"
      ]
     },
     "execution_count": 60,
     "metadata": {},
     "output_type": "execute_result"
    },
    {
     "data": {
      "image/png": "[encoded data removed]",
      "text/plain": [
       "<Figure size 432x288 with 1 Axes>"
      ]
     },
     "metadata": {
      "needs_background": "light"
     },
     "output_type": "display_data"
    }
   ],
   "source": [
    "# Here's an example training loop using this two-layer model. Can you do better? \n",
    "learning_rate = 0.02\n",
    "num_examples = x_train.shape[0]\n",
    "batch_size = 10000\n",
    "num_batches = int(num_examples / batch_size)\n",
    "num_epochs = 10\n",
    "losses = numpy.zeros(num_batches*num_epochs,)\n",
    "indices = numpy.arange(num_examples)\n",
    "\n",
    "i = 0\n",
    "for epoch in range(0, num_epochs):\n",
    "    # in each epoch, we loop over all of the training examples\n",
    "    for step in range(0, num_batches):\n",
    "        # grabbing the next batch\n",
    "        offset = step * batch_size\n",
    "        batch_range = range(offset, offset+batch_size)\n",
    "        x_train_batch = x_train[batch_range, :]\n",
    "        y_train_batch = y_train_onehot[batch_range,:]\n",
    "        \n",
    "        # feed the next batch in to do one sgd step\n",
    "        loss, model = learn(model, x_train_batch, y_train_batch, learning_rate)\n",
    "        losses[i] = loss\n",
    "        i += 1\n",
    "\n",
    "    acc = accuracy(model, x_train, y_train)\n",
    "    print(\"epoch %d, loss %.5f, accuracy %.2f\" % (epoch, loss, acc))\n",
    "    \n",
    "    # reshuffle the data so that we get a new set of batches\n",
    "    numpy.random.shuffle(indices)\n",
    "    x_train = x_train[indices,:]\n",
    "    y_train = y_train[indices] # keep this shuffled the same way for use in accuracy calculation\n",
    "    y_train_onehot = y_train_onehot[indices,:]\n",
    "plt.plot(losses)"
   ]
  }
 ],
 "metadata": {
  "kernelspec": {
   "display_name": "Python 3 (ipykernel)",
   "language": "python",
   "name": "python3"
  },
  "language_info": {
   "codemirror_mode": {
    "name": "ipython",
    "version": 3
   },
   "file_extension": ".py",
   "mimetype": "text/x-python",
   "name": "python",
   "nbconvert_exporter": "python",
   "pygments_lexer": "ipython3",
   "version": "3.7.4"
  }
 },
 "nbformat": 4,
 "nbformat_minor": 5
}
